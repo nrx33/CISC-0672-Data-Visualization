{
 "cells": [
  {
   "cell_type": "markdown",
   "metadata": {},
   "source": [
    "```markdown\n",
    "Assignment 2\n",
    "Nazmul Hasan Rabbi\n",
    "CISC 0672: Data Visualization\n",
    "```\n"
   ]
  },
  {
   "cell_type": "markdown",
   "metadata": {},
   "source": [
    "## Project Setup\n",
    "Importing required packages and loading data required for this assignment\n"
   ]
  },
  {
   "cell_type": "code",
   "execution_count": 2,
   "metadata": {},
   "outputs": [],
   "source": [
    "# importing packages\n",
    "import pandas as pd"
   ]
  },
  {
   "cell_type": "markdown",
   "metadata": {},
   "source": [
    "### Exercise 1\n",
    "Go to https://www.ncdc.noaa.gov/cag/city/time-series/ and retrieve time-series temperature data for four to six cities of your choice. To get data for a city, select *Average Temperature*, *All Months*, *Start Year*, *End Year*, *State*, and *City*. \n",
    "\n",
    "Use Excel to combine these datasets into a single file *cityTempsSeries.csv* with temperature data for your cities. This has the same format as the file read at the top of this notebook, but it has data for your chosen cities.\n",
    "\n",
    "Then use the techniques used in this notebook above to create a dataframe with the format given above.\n"
   ]
  },
  {
   "cell_type": "code",
   "execution_count": 27,
   "metadata": {},
   "outputs": [
    {
     "data": {
      "text/html": [
       "<div>\n",
       "<style scoped>\n",
       "    .dataframe tbody tr th:only-of-type {\n",
       "        vertical-align: middle;\n",
       "    }\n",
       "\n",
       "    .dataframe tbody tr th {\n",
       "        vertical-align: top;\n",
       "    }\n",
       "\n",
       "    .dataframe thead th {\n",
       "        text-align: right;\n",
       "    }\n",
       "</style>\n",
       "<table border=\"1\" class=\"dataframe\">\n",
       "  <thead>\n",
       "    <tr style=\"text-align: right;\">\n",
       "      <th></th>\n",
       "      <th>Date</th>\n",
       "      <th>Cleveland</th>\n",
       "      <th>Miami</th>\n",
       "      <th>NYC</th>\n",
       "      <th>SF</th>\n",
       "    </tr>\n",
       "  </thead>\n",
       "  <tbody>\n",
       "    <tr>\n",
       "      <th>0</th>\n",
       "      <td>195001</td>\n",
       "      <td>35.0</td>\n",
       "      <td>73.6</td>\n",
       "      <td>41.0</td>\n",
       "      <td>44.0</td>\n",
       "    </tr>\n",
       "    <tr>\n",
       "      <th>1</th>\n",
       "      <td>195002</td>\n",
       "      <td>27.7</td>\n",
       "      <td>70.5</td>\n",
       "      <td>30.8</td>\n",
       "      <td>49.0</td>\n",
       "    </tr>\n",
       "    <tr>\n",
       "      <th>2</th>\n",
       "      <td>195003</td>\n",
       "      <td>31.5</td>\n",
       "      <td>72.2</td>\n",
       "      <td>35.8</td>\n",
       "      <td>50.6</td>\n",
       "    </tr>\n",
       "    <tr>\n",
       "      <th>3</th>\n",
       "      <td>195004</td>\n",
       "      <td>41.6</td>\n",
       "      <td>71.4</td>\n",
       "      <td>48.1</td>\n",
       "      <td>54.3</td>\n",
       "    </tr>\n",
       "    <tr>\n",
       "      <th>4</th>\n",
       "      <td>195005</td>\n",
       "      <td>59.7</td>\n",
       "      <td>79.5</td>\n",
       "      <td>58.5</td>\n",
       "      <td>55.7</td>\n",
       "    </tr>\n",
       "  </tbody>\n",
       "</table>\n",
       "</div>"
      ],
      "text/plain": [
       "     Date  Cleveland  Miami   NYC    SF\n",
       "0  195001       35.0   73.6  41.0  44.0\n",
       "1  195002       27.7   70.5  30.8  49.0\n",
       "2  195003       31.5   72.2  35.8  50.6\n",
       "3  195004       41.6   71.4  48.1  54.3\n",
       "4  195005       59.7   79.5  58.5  55.7"
      ]
     },
     "execution_count": 27,
     "metadata": {},
     "output_type": "execute_result"
    }
   ],
   "source": [
    "# waiting for dataset\n",
    "data = pd.read_csv('./data/cityTempsSeries.csv')\n",
    "data.head()"
   ]
  },
  {
   "cell_type": "markdown",
   "metadata": {},
   "source": [
    "### Exercise 2\n",
    "For this exercise, define the function \n",
    "\n",
    "    plot_one_month(frame, month, cities) \n",
    "    \n",
    "that draws a line graph over all years for given *month* and list of *cities*. Assume *frame* has one of the two formats (`df` or `df2`) defined above, though for this exercise you might find it easier to assume the `df` format.\n",
    "\n",
    "The following image results from the function call:\n",
    "\n",
    "    plot_one_month(frame, 'Jan', ['Cleveland', 'Miami', 'NYC']).show()"
   ]
  },
  {
   "cell_type": "code",
   "execution_count": null,
   "metadata": {},
   "outputs": [],
   "source": []
  }
 ],
 "metadata": {
  "kernelspec": {
   "display_name": "Python 3",
   "language": "python",
   "name": "python3"
  },
  "language_info": {
   "codemirror_mode": {
    "name": "ipython",
    "version": 3
   },
   "file_extension": ".py",
   "mimetype": "text/x-python",
   "name": "python",
   "nbconvert_exporter": "python",
   "pygments_lexer": "ipython3",
   "version": "3.10.13"
  }
 },
 "nbformat": 4,
 "nbformat_minor": 2
}
